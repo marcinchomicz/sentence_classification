{
 "cells": [
  {
   "cell_type": "code",
   "execution_count": 1,
   "metadata": {
    "collapsed": true
   },
   "outputs": [
    {
     "name": "stderr",
     "output_type": "stream",
     "text": [
      "/home/mchomicz/envs/env_py38_tf29/lib/python3.8/site-packages/tqdm/auto.py:22: TqdmWarning: IProgress not found. Please update jupyter and ipywidgets. See https://ipywidgets.readthedocs.io/en/stable/user_install.html\n",
      "  from .autonotebook import tqdm as notebook_tqdm\n"
     ]
    },
    {
     "name": "stdout",
     "output_type": "stream",
     "text": [
      "pandas              \t1.5.0\n",
      "tensorflow          \t2.9.2\n",
      "tensorflow_addons   \t0.18.0\n",
      "mlflow              \t1.29.0\n"
     ]
    }
   ],
   "source": [
    "import os\n",
    "import sys\n",
    "\n",
    "sys.path.append(\"/mnt/workdata/_WORK_/mail_zonning/mail_zoning/classes\")\n",
    "\n",
    "import datetime as dt\n",
    "os.environ['CUDA_VISIBLE_DEVICES'] = \"0\"\n",
    "os.environ['TF_FORCE_GPU_ALLOW_GROWTH'] = \"true\"\n",
    "\n",
    "import numpy as np\n",
    "from numpy.lib.stride_tricks import sliding_window_view\n",
    "import pandas as pd\n",
    "import tensorflow as tf\n",
    "import tensorflow_addons as tfa\n",
    "import mlflow\n",
    "import json\n",
    "from sklearn.model_selection import train_test_split\n",
    "from sklearn.model_selection import KFold\n",
    "from sklearn.metrics import accuracy_score, precision_score, recall_score, f1_score, classification_report\n",
    "import itertools\n",
    "from tqdm import tqdm\n",
    "import inspect\n",
    "import matplotlib.pyplot as plt\n",
    "import seaborn as sns\n",
    "from sentence_classifier import MovingWindowSentenceClassifier\n",
    "\n",
    "for m in [pd, tf, tfa, mlflow]:\n",
    "    print(f\"{m.__name__:20s}\\t{m.__version__}\")\n",
    "\n",
    "tf.config.experimental.enable_tensor_float_32_execution(enabled=True)\n",
    "\n",
    "DATAPATH = \"/mnt/workdata/_WORK_/mail_zonning/mail_zoning/dataset/enron_files_annotated/\""
   ]
  },
  {
   "cell_type": "code",
   "execution_count": 2,
   "outputs": [],
   "source": [
    "start=dt.datetime.now()"
   ],
   "metadata": {
    "collapsed": false
   }
  },
  {
   "cell_type": "markdown",
   "source": [
    "# Supporting methods"
   ],
   "metadata": {
    "collapsed": false
   }
  },
  {
   "cell_type": "code",
   "execution_count": 3,
   "outputs": [],
   "source": [
    "def prepare_dataset(datapath: str):\n",
    "    def extract_text(text, flags: dict):\n",
    "        text = text.split('\\n')\n",
    "        idx = 0\n",
    "        while text[idx][:2] not in flags:\n",
    "            idx += 1\n",
    "        labels = [flags[t[:2]] for t in text[idx:] if len(t) > 1]\n",
    "        text = [t[2:] for t in text[idx:]]\n",
    "        return text, labels\n",
    "\n",
    "    # load and extract flag data\n",
    "    FLAGS = {'B>': 0, 'H>': 1, 'S>': 2}\n",
    "    files = {}\n",
    "    for filename in os.listdir(datapath):\n",
    "        with open(os.path.join(datapath, filename), 'rt') as f:\n",
    "            files[filename] = f.read()\n",
    "    _ = []\n",
    "    for filename in files.keys():\n",
    "        text_ = files[filename]\n",
    "        textlines, labels = extract_text(text_, FLAGS)\n",
    "        for idx, line_label in enumerate(zip(textlines, labels)):\n",
    "            _.append({'doc': filename, 'idx': idx, 'sentence': line_label[0], 'label': line_label[1]})\n",
    "    df = pd.DataFrame.from_dict(_)\n",
    "    return df\n",
    "\n",
    "def split_dataset(data: pd.DataFrame, random_state: int):\n",
    "    \"\"\"\"\n",
    "    Dataset split is based on complete emails, not on email lines\n",
    "    \"\"\"\n",
    "    splitter = KFold(n_splits=5, shuffle=True, random_state=random_state)\n",
    "    docs = data['doc'].unique()\n",
    "    splits = splitter.split(docs)\n",
    "    train_data = []\n",
    "    val_data = []\n",
    "    for train_idx, val_idx in splits:\n",
    "        train_data_ = data.loc[data['doc'].isin(docs[train_idx])]\n",
    "        train_data.append(train_data_[['doc', 'idx', 'sentence', 'label']])\n",
    "        val_data_ = data.loc[data['doc'].isin(docs[val_idx])]\n",
    "        val_data.append(val_data_[['doc', 'idx', 'sentence', 'label']])\n",
    "    return train_data, val_data"
   ],
   "metadata": {
    "collapsed": false
   }
  },
  {
   "cell_type": "markdown",
   "source": [
    "## Window size = 3"
   ],
   "metadata": {
    "collapsed": false
   }
  },
  {
   "cell_type": "code",
   "execution_count": null,
   "outputs": [
    {
     "name": "stdout",
     "output_type": "stream",
     "text": [
      "Subset: 0, train records: 10966, validation: 2784\n",
      "Liczba wspólnych dla train i val: 0\n"
     ]
    },
    {
     "name": "stderr",
     "output_type": "stream",
     "text": [
      "2022-12-27 19:08:26.455612: I tensorflow/stream_executor/cuda/cuda_gpu_executor.cc:975] successful NUMA node read from SysFS had negative value (-1), but there must be at least one NUMA node, so returning NUMA node zero\n",
      "2022-12-27 19:08:26.460348: I tensorflow/stream_executor/cuda/cuda_gpu_executor.cc:975] successful NUMA node read from SysFS had negative value (-1), but there must be at least one NUMA node, so returning NUMA node zero\n",
      "2022-12-27 19:08:26.460520: I tensorflow/stream_executor/cuda/cuda_gpu_executor.cc:975] successful NUMA node read from SysFS had negative value (-1), but there must be at least one NUMA node, so returning NUMA node zero\n",
      "2022-12-27 19:08:26.461186: I tensorflow/core/platform/cpu_feature_guard.cc:193] This TensorFlow binary is optimized with oneAPI Deep Neural Network Library (oneDNN) to use the following CPU instructions in performance-critical operations:  AVX2 FMA\n",
      "To enable them in other operations, rebuild TensorFlow with the appropriate compiler flags.\n",
      "2022-12-27 19:08:26.463500: I tensorflow/stream_executor/cuda/cuda_gpu_executor.cc:975] successful NUMA node read from SysFS had negative value (-1), but there must be at least one NUMA node, so returning NUMA node zero\n",
      "2022-12-27 19:08:26.463646: I tensorflow/stream_executor/cuda/cuda_gpu_executor.cc:975] successful NUMA node read from SysFS had negative value (-1), but there must be at least one NUMA node, so returning NUMA node zero\n",
      "2022-12-27 19:08:26.463774: I tensorflow/stream_executor/cuda/cuda_gpu_executor.cc:975] successful NUMA node read from SysFS had negative value (-1), but there must be at least one NUMA node, so returning NUMA node zero\n",
      "2022-12-27 19:08:26.792299: I tensorflow/stream_executor/cuda/cuda_gpu_executor.cc:975] successful NUMA node read from SysFS had negative value (-1), but there must be at least one NUMA node, so returning NUMA node zero\n",
      "2022-12-27 19:08:26.792477: I tensorflow/stream_executor/cuda/cuda_gpu_executor.cc:975] successful NUMA node read from SysFS had negative value (-1), but there must be at least one NUMA node, so returning NUMA node zero\n",
      "2022-12-27 19:08:26.792613: I tensorflow/stream_executor/cuda/cuda_gpu_executor.cc:975] successful NUMA node read from SysFS had negative value (-1), but there must be at least one NUMA node, so returning NUMA node zero\n",
      "2022-12-27 19:08:26.792694: W tensorflow/core/common_runtime/gpu/gpu_bfc_allocator.cc:42] Overriding orig_value setting because the TF_FORCE_GPU_ALLOW_GROWTH environment variable is set. Original config value was 0.\n",
      "2022-12-27 19:08:26.792716: I tensorflow/core/common_runtime/gpu/gpu_device.cc:1532] Created device /job:localhost/replica:0/task:0/device:GPU:0 with 22292 MB memory:  -> device: 0, name: NVIDIA GeForce RTX 3090 Ti, pci bus id: 0000:21:00.0, compute capability: 8.6\n"
     ]
    },
    {
     "name": "stdout",
     "output_type": "stream",
     "text": [
      "Epoch 1/100\n"
     ]
    },
    {
     "name": "stderr",
     "output_type": "stream",
     "text": [
      "2022-12-27 19:08:31.795438: I tensorflow/stream_executor/cuda/cuda_dnn.cc:384] Loaded cuDNN version 8101\n",
      "2022-12-27 19:08:32.227725: I tensorflow/core/platform/default/subprocess.cc:304] Start cannot spawn child process: No such file or directory\n",
      "2022-12-27 19:08:32.836905: I tensorflow/stream_executor/cuda/cuda_blas.cc:1786] TensorFloat-32 will be used for the matrix multiplication. This will only be logged once.\n"
     ]
    },
    {
     "name": "stdout",
     "output_type": "stream",
     "text": [
      "196/196 [==============================] - 7s 12ms/step - loss: 0.2601 - accuracy: 0.9094 - val_loss: 0.4639 - val_accuracy: 0.8998 - lr: 6.5000e-04\n",
      "Epoch 2/100\n",
      "196/196 [==============================] - 1s 8ms/step - loss: 0.0610 - accuracy: 0.9818 - val_loss: 0.1357 - val_accuracy: 0.9551 - lr: 6.5000e-04\n",
      "Epoch 3/100\n",
      "196/196 [==============================] - 1s 7ms/step - loss: 0.0401 - accuracy: 0.9888 - val_loss: 0.0597 - val_accuracy: 0.9838 - lr: 6.5000e-04\n",
      "Epoch 4/100\n",
      "196/196 [==============================] - 1s 8ms/step - loss: 0.0339 - accuracy: 0.9908 - val_loss: 0.0706 - val_accuracy: 0.9784 - lr: 6.5000e-04\n",
      "Epoch 5/100\n",
      "196/196 [==============================] - 1s 7ms/step - loss: 0.0292 - accuracy: 0.9913 - val_loss: 0.0617 - val_accuracy: 0.9835 - lr: 6.5000e-04\n",
      "Epoch 6/100\n",
      "196/196 [==============================] - 1s 7ms/step - loss: 0.0289 - accuracy: 0.9916 - val_loss: 0.0717 - val_accuracy: 0.9831 - lr: 6.5000e-04\n",
      "Epoch 7/100\n",
      "196/196 [==============================] - 1s 7ms/step - loss: 0.0279 - accuracy: 0.9919 - val_loss: 0.0601 - val_accuracy: 0.9824 - lr: 2.8946e-04\n",
      "Epoch 8/100\n",
      "196/196 [==============================] - 1s 7ms/step - loss: 0.0258 - accuracy: 0.9924 - val_loss: 0.0664 - val_accuracy: 0.9820 - lr: 2.8946e-04\n",
      "Epoch 9/100\n",
      "196/196 [==============================] - 1s 7ms/step - loss: 0.0258 - accuracy: 0.9923 - val_loss: 0.0679 - val_accuracy: 0.9795 - lr: 2.8946e-04\n",
      "Epoch 10/100\n",
      "196/196 [==============================] - 1s 7ms/step - loss: 0.0250 - accuracy: 0.9926 - val_loss: 0.0641 - val_accuracy: 0.9799 - lr: 1.2890e-04\n",
      "Epoch 11/100\n",
      "196/196 [==============================] - 1s 7ms/step - loss: 0.0249 - accuracy: 0.9924 - val_loss: 0.0646 - val_accuracy: 0.9817 - lr: 1.2890e-04\n",
      "Epoch 12/100\n",
      "196/196 [==============================] - 1s 8ms/step - loss: 0.0246 - accuracy: 0.9926 - val_loss: 0.0680 - val_accuracy: 0.9817 - lr: 1.2890e-04\n",
      "Epoch 13/100\n",
      "196/196 [==============================] - 1s 7ms/step - loss: 0.0247 - accuracy: 0.9926 - val_loss: 0.0681 - val_accuracy: 0.9831 - lr: 5.7401e-05\n",
      "87/87 [==============================] - 0s 3ms/step - loss: 0.0597 - accuracy: 0.9838\n",
      "Subset: 1, train records: 11074, validation: 2676\n",
      "Liczba wspólnych dla train i val: 0\n",
      "Epoch 1/100\n",
      "198/198 [==============================] - 5s 11ms/step - loss: 0.2681 - accuracy: 0.9019 - val_loss: 0.3819 - val_accuracy: 0.8834 - lr: 6.5000e-04\n",
      "Epoch 2/100\n",
      "198/198 [==============================] - 1s 7ms/step - loss: 0.0593 - accuracy: 0.9814 - val_loss: 0.1206 - val_accuracy: 0.9664 - lr: 6.5000e-04\n",
      "Epoch 3/100\n",
      "198/198 [==============================] - 1s 7ms/step - loss: 0.0369 - accuracy: 0.9899 - val_loss: 0.0698 - val_accuracy: 0.9809 - lr: 6.5000e-04\n",
      "Epoch 4/100\n",
      "198/198 [==============================] - 1s 7ms/step - loss: 0.0329 - accuracy: 0.9912 - val_loss: 0.0949 - val_accuracy: 0.9753 - lr: 6.5000e-04\n",
      "Epoch 5/100\n",
      "198/198 [==============================] - 1s 7ms/step - loss: 0.0306 - accuracy: 0.9916 - val_loss: 0.1071 - val_accuracy: 0.9750 - lr: 6.5000e-04\n",
      "Epoch 6/100\n",
      "198/198 [==============================] - 1s 7ms/step - loss: 0.0276 - accuracy: 0.9923 - val_loss: 0.0715 - val_accuracy: 0.9798 - lr: 6.5000e-04\n",
      "Epoch 7/100\n",
      "161/198 [=======================>......] - ETA: 0s - loss: 0.0262 - accuracy: 0.9923"
     ]
    }
   ],
   "source": [
    "model_params = {\n",
    "    \"output_class_count\": 3,\n",
    "    \"vocab_size\": 8000,\n",
    "    \"output_sequence_length\": 45,\n",
    "    \"embedding_dimension\": 150,\n",
    "    \"window_size\": 3,\n",
    "    \"conv1d_0_units\": 80,\n",
    "    \"conv1d_0_kernelsize\": 3,\n",
    "    \"conv1d_0_padding\": \"valid\",\n",
    "    \"conv1d_0_activation\": \"relu\",\n",
    "    \"conv1d_1_units\": 80,\n",
    "    \"conv1d_1_kernelsize\": 3,\n",
    "    \"conv1d_1_padding\": \"valid\",\n",
    "    \"conv1d_1_activation\": \"relu\",\n",
    "    \"gru_0_units\": 128,\n",
    "    \"gru_1_units\": 64,\n",
    "    \"drop_0_rate\": 0.3448836829019953,\n",
    "    \"initial_lr\": 0.0006500000000000001,\n",
    "    \"lr_reduction_factor\": 0.44531593652922397,\n",
    "    \"lr_reduction_patience\": 3,\n",
    "    \"batch_size\": 56,\n",
    "    \"max_epochs\": 100,\n",
    "    \"early_stop_patience\": 10\n",
    "}\n",
    "RANDOM_STATE=123\n",
    "df = prepare_dataset(DATAPATH)\n",
    "train_subsets, val_subsets = split_dataset(df, RANDOM_STATE)\n",
    "\n",
    "texts = df['sentence'].values\n",
    "results={}\n",
    "for idx in range(len(train_subsets)):\n",
    "    print(f\"Subset: {idx}, train records: {train_subsets[idx].shape[0]}, validation: {val_subsets[idx].shape[0]}\")\n",
    "    print(f\"Liczba wspólnych dla train i val: {len(set(train_subsets[idx]['doc']).intersection(set(val_subsets[idx]['doc'])))}\")\n",
    "    tf.keras.backend.clear_session()\n",
    "    clf=MovingWindowSentenceClassifier(\n",
    "        model_params=model_params,\n",
    "        bod_line = 'This is the first line of document. No lines come before.',\n",
    "        eod_line='This is the last line of document. No lines come after.',\n",
    "        corpus=texts)\n",
    "    clf.prepare_train_records(data=train_subsets[idx])\n",
    "    clf.prepare_validation_records(data=val_subsets[idx])\n",
    "    clf.compile(optimizer=tf.keras.optimizers.Adam(model_params['initial_lr']),\n",
    "              loss=tf.keras.losses.SparseCategoricalCrossentropy(),\n",
    "              metrics=['accuracy'])\n",
    "    clf.fit(\n",
    "            x=clf.train_texts, y=clf.train_labels,\n",
    "            batch_size=model_params['batch_size'],\n",
    "            epochs=model_params['max_epochs'],\n",
    "            validation_data=(clf.validation_texts, clf.validation_labels),\n",
    "            use_multiprocessing=True,\n",
    "            callbacks=[\n",
    "                tf.keras.callbacks.ReduceLROnPlateau(\n",
    "                    factor=model_params['lr_reduction_factor'], patience=model_params['lr_reduction_patience'], verbose=0),\n",
    "                tf.keras.callbacks.EarlyStopping(\n",
    "                    min_delta=1e-4, patience=model_params['early_stop_patience'], restore_best_weights=True)\n",
    "            ],verbose=1)\n",
    "    results[idx]=clf.evaluate(clf.validation_texts, clf.validation_labels)\n",
    "\n",
    "master_results={3:results}"
   ],
   "metadata": {
    "collapsed": false,
    "pycharm": {
     "is_executing": true
    }
   }
  },
  {
   "cell_type": "markdown",
   "source": [
    "## Window size = 5"
   ],
   "metadata": {
    "collapsed": false
   }
  },
  {
   "cell_type": "code",
   "execution_count": null,
   "outputs": [],
   "source": [
    "model_params = {\n",
    "    \"output_class_count\": 3,\n",
    "    \"vocab_size\": 8000,\n",
    "    \"output_sequence_length\": 45,\n",
    "    \"embedding_dimension\": 150,\n",
    "    \"window_size\": 5,\n",
    "    \"conv1d_0_units\": 80,\n",
    "    \"conv1d_0_kernelsize\": 3,\n",
    "    \"conv1d_0_padding\": \"valid\",\n",
    "    \"conv1d_0_activation\": \"relu\",\n",
    "    \"conv1d_1_units\": 80,\n",
    "    \"conv1d_1_kernelsize\": 3,\n",
    "    \"conv1d_1_padding\": \"valid\",\n",
    "    \"conv1d_1_activation\": \"relu\",\n",
    "    \"gru_0_units\": 128,\n",
    "    \"gru_1_units\": 64,\n",
    "    \"drop_0_rate\": 0.3448836829019953,\n",
    "    \"initial_lr\": 0.0006500000000000001,\n",
    "    \"lr_reduction_factor\": 0.44531593652922397,\n",
    "    \"lr_reduction_patience\": 3,\n",
    "    \"batch_size\": 56,\n",
    "    \"max_epochs\": 100,\n",
    "    \"early_stop_patience\": 10\n",
    "}\n",
    "RANDOM_STATE=123\n",
    "df = prepare_dataset(DATAPATH)\n",
    "train_subsets, val_subsets = split_dataset(df, RANDOM_STATE)\n",
    "\n",
    "texts = df['sentence'].values\n",
    "results={}\n",
    "for idx in range(len(train_subsets)):\n",
    "    print(f\"Subset: {idx}, train records: {train_subsets[idx].shape[0]}, validation: {val_subsets[idx].shape[0]}\")\n",
    "    print(f\"Liczba wspólnych dla train i val: {len(set(train_subsets[idx]['doc']).intersection(set(val_subsets[idx]['doc'])))}\")\n",
    "    tf.keras.backend.clear_session()\n",
    "    clf=MovingWindowSentenceClassifier(\n",
    "        model_params=model_params,\n",
    "        bod_line = 'This is the first line of document. No lines come before.',\n",
    "        eod_line='This is the last line of document. No lines come after.',\n",
    "        corpus=texts)\n",
    "    clf.prepare_train_records(data=train_subsets[idx])\n",
    "    clf.prepare_validation_records(data=val_subsets[idx])\n",
    "    clf.compile(optimizer=tf.keras.optimizers.Adam(model_params['initial_lr']),\n",
    "              loss=tf.keras.losses.SparseCategoricalCrossentropy(),\n",
    "              metrics=['accuracy'])\n",
    "    clf.fit(\n",
    "            x=clf.train_texts, y=clf.train_labels,\n",
    "            batch_size=model_params['batch_size'],\n",
    "            epochs=model_params['max_epochs'],\n",
    "            validation_data=(clf.validation_texts, clf.validation_labels),\n",
    "            use_multiprocessing=True,\n",
    "            callbacks=[\n",
    "                tf.keras.callbacks.ReduceLROnPlateau(\n",
    "                    factor=model_params['lr_reduction_factor'], patience=model_params['lr_reduction_patience'], verbose=0),\n",
    "                tf.keras.callbacks.EarlyStopping(\n",
    "                    min_delta=1e-4, patience=model_params['early_stop_patience'], restore_best_weights=True)\n",
    "            ],verbose=1)\n",
    "    results[idx]=clf.evaluate(clf.validation_texts, clf.validation_labels)\n",
    "\n",
    "master_results[5]=results"
   ],
   "metadata": {
    "collapsed": false,
    "pycharm": {
     "is_executing": true
    }
   }
  },
  {
   "cell_type": "markdown",
   "source": [
    "## Window size = 7"
   ],
   "metadata": {
    "collapsed": false
   }
  },
  {
   "cell_type": "code",
   "execution_count": null,
   "outputs": [],
   "source": [
    "model_params = {\n",
    "    \"output_class_count\": 3,\n",
    "    \"vocab_size\": 8000,\n",
    "    \"output_sequence_length\": 45,\n",
    "    \"embedding_dimension\": 150,\n",
    "    \"window_size\": 7,\n",
    "    \"conv1d_0_units\": 80,\n",
    "    \"conv1d_0_kernelsize\": 3,\n",
    "    \"conv1d_0_padding\": \"valid\",\n",
    "    \"conv1d_0_activation\": \"relu\",\n",
    "    \"conv1d_1_units\": 80,\n",
    "    \"conv1d_1_kernelsize\": 3,\n",
    "    \"conv1d_1_padding\": \"valid\",\n",
    "    \"conv1d_1_activation\": \"relu\",\n",
    "    \"gru_0_units\": 128,\n",
    "    \"gru_1_units\": 64,\n",
    "    \"drop_0_rate\": 0.3448836829019953,\n",
    "    \"initial_lr\": 0.0006500000000000001,\n",
    "    \"lr_reduction_factor\": 0.44531593652922397,\n",
    "    \"lr_reduction_patience\": 3,\n",
    "    \"batch_size\": 56,\n",
    "    \"max_epochs\": 100,\n",
    "    \"early_stop_patience\": 10\n",
    "}\n",
    "RANDOM_STATE=123\n",
    "df = prepare_dataset(DATAPATH)\n",
    "train_subsets, val_subsets = split_dataset(df, RANDOM_STATE)\n",
    "\n",
    "texts = df['sentence'].values\n",
    "results={}\n",
    "for idx in range(len(train_subsets)):\n",
    "    print(f\"Subset: {idx}, train records: {train_subsets[idx].shape[0]}, validation: {val_subsets[idx].shape[0]}\")\n",
    "    print(f\"Liczba wspólnych dla train i val: {len(set(train_subsets[idx]['doc']).intersection(set(val_subsets[idx]['doc'])))}\")\n",
    "    tf.keras.backend.clear_session()\n",
    "    clf=MovingWindowSentenceClassifier(\n",
    "        model_params=model_params,\n",
    "        bod_line = 'This is the first line of document. No lines come before.',\n",
    "        eod_line='This is the last line of document. No lines come after.',\n",
    "        corpus=texts)\n",
    "    clf.prepare_train_records(data=train_subsets[idx])\n",
    "    clf.prepare_validation_records(data=val_subsets[idx])\n",
    "    clf.compile(optimizer=tf.keras.optimizers.Adam(model_params['initial_lr']),\n",
    "              loss=tf.keras.losses.SparseCategoricalCrossentropy(),\n",
    "              metrics=['accuracy'])\n",
    "    clf.fit(\n",
    "            x=clf.train_texts, y=clf.train_labels,\n",
    "            batch_size=model_params['batch_size'],\n",
    "            epochs=model_params['max_epochs'],\n",
    "            validation_data=(clf.validation_texts, clf.validation_labels),\n",
    "            use_multiprocessing=True,\n",
    "            callbacks=[\n",
    "                tf.keras.callbacks.ReduceLROnPlateau(\n",
    "                    factor=model_params['lr_reduction_factor'], patience=model_params['lr_reduction_patience'], verbose=0),\n",
    "                tf.keras.callbacks.EarlyStopping(\n",
    "                    min_delta=1e-4, patience=model_params['early_stop_patience'], restore_best_weights=True)\n",
    "            ],verbose=1)\n",
    "    results[idx]=clf.evaluate(clf.validation_texts, clf.validation_labels)\n",
    "\n",
    "master_results[7]=results"
   ],
   "metadata": {
    "collapsed": false,
    "pycharm": {
     "is_executing": true
    }
   }
  },
  {
   "cell_type": "markdown",
   "source": [
    "# Results comparison"
   ],
   "metadata": {
    "collapsed": false
   }
  },
  {
   "cell_type": "code",
   "execution_count": null,
   "outputs": [],
   "source": [
    "_={(k,s): {'val_loss':master_results[k][s][0], 'val_accuracy': master_results[k][s][1]}\n",
    " for k in master_results.keys() for s in master_results[k].keys()}\n",
    "_ = pd.DataFrame.from_dict(_).T.reset_index()\n",
    "_.columns=['window size','split num', 'val loss', 'val accuracy']\n",
    "\n",
    "fig, ax=plt.subplots(1,2,figsize=(14,6))\n",
    "sns.barplot(data=_, x= 'split num', y='val loss', hue='window size',palette='rainbow', ax=ax[0])\n",
    "ax[0].set_title(\"Validation loss values for window sizes\")\n",
    "ax[0].set_ylim(_['val loss'].min()-0.01, _['val loss'].max()+0.01)\n",
    "sns.barplot(data=_, x= 'split num', y='val accuracy', hue='window size',palette='rainbow', ax=ax[1])\n",
    "ax[1].set_title(\"Validation accuracy values for window sizes\")\n",
    "ax[1].set_ylim(_['val accuracy'].min()-0.01, 1.0);"
   ],
   "metadata": {
    "collapsed": false,
    "pycharm": {
     "is_executing": true
    }
   }
  },
  {
   "cell_type": "code",
   "execution_count": null,
   "outputs": [],
   "source": [
    "print(f\"Total execution time: {dt.datetime.now()-start}\")"
   ],
   "metadata": {
    "collapsed": false,
    "pycharm": {
     "is_executing": true
    }
   }
  }
 ],
 "metadata": {
  "kernelspec": {
   "name": "py38_tf29",
   "language": "python",
   "display_name": "py38_tf29"
  },
  "language_info": {
   "codemirror_mode": {
    "name": "ipython",
    "version": 2
   },
   "file_extension": ".py",
   "mimetype": "text/x-python",
   "name": "python",
   "nbconvert_exporter": "python",
   "pygments_lexer": "ipython2",
   "version": "2.7.6"
  }
 },
 "nbformat": 4,
 "nbformat_minor": 0
}
